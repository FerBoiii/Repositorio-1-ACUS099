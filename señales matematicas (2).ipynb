{
  "metadata": {
    "language_info": {
      "codemirror_mode": {
        "name": "python",
        "version": 3
      },
      "file_extension": ".py",
      "mimetype": "text/x-python",
      "name": "python",
      "nbconvert_exporter": "python",
      "pygments_lexer": "ipython3",
      "version": "3.8"
    },
    "kernelspec": {
      "name": "python",
      "display_name": "Pyolite",
      "language": "python"
    }
  },
  "nbformat_minor": 4,
  "nbformat": 4,
  "cells": [
    {
      "cell_type": "markdown",
      "source": "$\\textbf{Señal h[n]}$\n\n$\nh[n]=\\begin{cases}\n1 & 0\\le n \\le N-1 \\\\\n0 & otherwise\n\\end{cases}$\n\n\n$\\textbf{Señal x[n]}$\n\n$\nx[n]=a^n u[n]$\n\n$\\textbf{Convolución}$\n\n$\ny[n]=\\sum_{k=0}^{n}a^k \\to 0\\le n \\le N-1$\n\n$\\textbf{y[n] como una función por partes}$\n\n$\ny[n]=\\begin{cases}\n0 & n<0\\\\\n\\frac{1-a^{n+1}}{1-a} & 0\\le n \\le N-1 \\\\\na^{n-N+1}(\\frac{1-a^N}{1-a})& N-1 < n \\\\\n\\end{cases}$\n\n",
      "metadata": {}
    },
    {
      "cell_type": "code",
      "source": "",
      "metadata": {},
      "execution_count": null,
      "outputs": []
    }
  ]
}